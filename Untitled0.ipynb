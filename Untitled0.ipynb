{
  "nbformat": 4,
  "nbformat_minor": 0,
  "metadata": {
    "colab": {
      "provenance": [],
      "authorship_tag": "ABX9TyM1WqlEep5aFSGCIHPSMICl",
      "include_colab_link": true
    },
    "kernelspec": {
      "name": "python3",
      "display_name": "Python 3"
    },
    "language_info": {
      "name": "python"
    }
  },
  "cells": [
    {
      "cell_type": "markdown",
      "metadata": {
        "id": "view-in-github",
        "colab_type": "text"
      },
      "source": [
        "<a href=\"https://colab.research.google.com/github/avandersonnn/Project-1/blob/main/Untitled0.ipynb\" target=\"_parent\"><img src=\"https://colab.research.google.com/assets/colab-badge.svg\" alt=\"Open In Colab\"/></a>"
      ]
    },
    {
      "cell_type": "code",
      "execution_count": null,
      "metadata": {
        "colab": {
          "base_uri": "https://localhost:8080/"
        },
        "id": "7s2G3TUlvfFn",
        "outputId": "9bbc734f-c54c-4666-fc3e-5d1917caef90"
      },
      "outputs": [
        {
          "output_type": "stream",
          "name": "stdout",
          "text": [
            "Odd\n",
            "Done with conditional\n"
          ]
        }
      ],
      "source": [
        "x=3\n",
        "if x%2 == 0:\n",
        "  print('Even')\n",
        "else:\n",
        "  print('Odd')\n",
        "print(\"Done with conditional\")"
      ]
    },
    {
      "cell_type": "code",
      "source": [
        "customer_type = input('Enter cusotmer type(n: new, e: existing): ')\n",
        "deposit = float(input('Enter deposit amount: '))\n",
        "\n",
        "if customer_type == 'e':\n",
        "  if deposit > 10000:\n",
        "  ir = 3.5\n",
        "  elif deposit <= 1000:\n",
        "  ir = 3.0\n",
        "else:\n",
        "  ir = 3.0\n",
        "\n",
        "  total = (1 + ir/100) * deposit\n",
        "  print(f'Depsosit at the end of year: {round(total, 2)}')"
      ],
      "metadata": {
        "colab": {
          "base_uri": "https://localhost:8080/",
          "height": 143
        },
        "id": "6OqowQcUwoL1",
        "outputId": "294b41f1-5667-4386-e891-5807accc6efd"
      },
      "execution_count": null,
      "outputs": [
        {
          "output_type": "error",
          "ename": "IndentationError",
          "evalue": "expected an indented block after 'if' statement on line 5 (<ipython-input-16-a926f972fcfc>, line 6)",
          "traceback": [
            "\u001b[0;36m  File \u001b[0;32m\"<ipython-input-16-a926f972fcfc>\"\u001b[0;36m, line \u001b[0;32m6\u001b[0m\n\u001b[0;31m    ir = 3.5\u001b[0m\n\u001b[0m    ^\u001b[0m\n\u001b[0;31mIndentationError\u001b[0m\u001b[0;31m:\u001b[0m expected an indented block after 'if' statement on line 5\n"
          ]
        }
      ]
    },
    {
      "cell_type": "code",
      "source": [],
      "metadata": {
        "id": "sgRj2NyO3CAM"
      },
      "execution_count": null,
      "outputs": []
    }
  ]
}