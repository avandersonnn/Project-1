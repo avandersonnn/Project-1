{
  "nbformat": 4,
  "nbformat_minor": 0,
  "metadata": {
    "colab": {
      "provenance": [],
      "authorship_tag": "ABX9TyMjR+LBnprj20/T6mwdCM5X",
      "include_colab_link": true
    },
    "kernelspec": {
      "name": "python3",
      "display_name": "Python 3"
    },
    "language_info": {
      "name": "python"
    }
  },
  "cells": [
    {
      "cell_type": "markdown",
      "metadata": {
        "id": "view-in-github",
        "colab_type": "text"
      },
      "source": [
        "<a href=\"https://colab.research.google.com/github/avandersonnn/Project-1/blob/main/Untitled0.ipynb\" target=\"_parent\"><img src=\"https://colab.research.google.com/assets/colab-badge.svg\" alt=\"Open In Colab\"/></a>"
      ]
    },
    {
      "cell_type": "code",
      "execution_count": 5,
      "metadata": {
        "colab": {
          "base_uri": "https://localhost:8080/"
        },
        "id": "ysr9zh8fCUJn",
        "outputId": "e59870ea-3680-40db-e824-5ce27067c9a5"
      },
      "outputs": [
        {
          "output_type": "stream",
          "name": "stdout",
          "text": [
            "1 for Jan\n",
            "2 for Feb\n",
            "3 for Mar\n",
            "4 for Apr\n",
            "5 for May\n",
            "6 for Jun\n",
            "7 for Jul\n",
            "8 for Aug\n",
            "9 for Sep\n",
            "10 for Oct\n",
            "11 for Nov\n",
            "12 for Dec\n"
          ]
        }
      ],
      "source": [
        "months = {}\n",
        "\n",
        "numbers = [1,2,3,4,5,6,7,8,9,10,11,12]\n",
        "names = [\"Jan\",\"Feb\", \"Mar\", \"Apr\", \"May\", \"Jun\", \"Jul\", \"Aug\", \"Sep\", \"Oct\", \"Nov\", \"Dec\"]\n",
        "for number, name in zip(numbers, names):\n",
        "    print(f\"{number} for {name}\")\n",
        "\n"
      ]
    }
  ]
}